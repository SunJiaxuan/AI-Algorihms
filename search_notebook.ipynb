{
 "cells": [
  {
   "cell_type": "markdown",
   "metadata": {},
   "source": [
    "# Assignment 2: Graph Search\n",
    "In this assignment you will be implementing a variety of graph search algorithms, with the eventual goal of solving tridirectional search.\n",
    "\n",
    "Before you start, you will need:\n",
    "\n",
    "1. [networkx](http://networkx.github.io/), which is a package for processing networks. This assignment will be easier if you take some time to test out and get familiar with the [basic methods](https://networkx.github.io/examples.html) of networkx. We have provided a version of networkx for you to use. It is in the lib folder. Please only use that version. If you have installed networkx already, run this code on a virtualenv without networkx installed. What's a virtualenv you say? See [this](http://docs.python-guide.org/en/latest/dev/virtualenvs/).\n",
    "\n",
    "2. [matplotlib](http://matplotlib.org/downloads.html) for basic network visualization. You're free to use your own version :)\n",
    "\n",
    "3. [Python 2.7.x](https://www.python.org/downloads/) (in case you're on Python 3).\n",
    "\n",
    "We will be using two undirected networks for this assignment: a simplified [map](http://robotics.cs.tamu.edu/dshell/cs420/images/map.jpg) of Romania (from Russell and Norvig) and a full street map of Atlanta."
   ]
  },
  {
   "cell_type": "code",
   "execution_count": 1,
   "metadata": {
    "collapsed": false
   },
   "outputs": [],
   "source": [
    "from __future__ import division\n",
    "import random\n",
    "import matplotlib.pyplot as plt\n",
    "import pickle\n",
    "import sys\n",
    "sys.path.append('lib')\n",
    "import networkx"
   ]
  },
  {
   "cell_type": "code",
   "execution_count": 2,
   "metadata": {
    "collapsed": false
   },
   "outputs": [
    {
     "name": "stdout",
     "output_type": "stream",
     "text": [
      "{'s': {'weight': 140}, 'z': {'weight': 75}, 't': {'weight': 118}}\n"
     ]
    }
   ],
   "source": [
    "\"\"\"Romania map data from Russell and Norvig, Chapter 3.\"\"\"\n",
    "romania = pickle.load(open('romania_graph.pickle', 'rb'))\n",
    "romania.reset_search()\n",
    "print(romania['a'])"
   ]
  },
  {
   "cell_type": "markdown",
   "metadata": {},
   "source": [
    "Warmups\n",
    "------\n",
    "We'll start by implementing some simpler optimization and search algorithms before the real exercises."
   ]
  },
  {
   "cell_type": "markdown",
   "metadata": {},
   "source": [
    "Warmup 1: Priority queue\n",
    "----------------------\n",
    "5 points\n",
    "\n",
    "In all searches that involve calculating path cost or heuristic (e.g. uniform-cost), we have to order our search frontier. It turns out the way that we do this can impact our overall search runtime. \n",
    "\n",
    "To show this, you'll implement a [priority queue](https://en.wikipedia.org/wiki/Priority_queue) and demonstrate its performance benefits. For large graphs, sorting all input to a priority queue is impractical. As such, the datastructure you implement should have an amortized O(1) insertion and O(lg n) removal time. It should do better than the naive implementation in our tests (InsertionSortQueue), which sorts the entire list after every insertion.\n",
    "\n",
    "Hints: \n",
    "1. The [heapq](https://docs.python.org/2/library/heapq.html) module has been imported for you.\n",
    "2. Each edge has an associated weight."
   ]
  },
  {
   "cell_type": "code",
   "execution_count": 3,
   "metadata": {
    "collapsed": false
   },
   "outputs": [],
   "source": [
    "import heapq\n",
    "\n",
    "class PriorityQueue():\n",
    "    \"\"\"Implementation of a priority queue \n",
    "    to store nodes during search.\"\"\"\n",
    "    # TODO: finish this class\n",
    "    \n",
    "    # HINT look up/use the module heapq.\n",
    "\n",
    "    def __init__(self):\n",
    "        self.queue = []\n",
    "        self.current = 0    \n",
    "\n",
    "    def next(self):\n",
    "        if self.current >=len(self.queue):\n",
    "            self.current\n",
    "            raise StopIteration\n",
    "    \n",
    "        out = self.queue[self.current]\n",
    "        self.current += 1\n",
    "\n",
    "        return out\n",
    "\n",
    "    def pop(self):\n",
    "        # TODO: finish this\n",
    "        raise NotImplementedError\n",
    "        \n",
    "    # TODO: This is a hint, you might require this in ucs,\n",
    "    # however, if you choose not to use it, you are free to \n",
    "    # define your own method and not use it.\n",
    "    def remove(self, nodeId):\n",
    "        raise NotImplementedError\n",
    "\n",
    "    def __iter__(self):\n",
    "        return self\n",
    "\n",
    "    def __str__(self):\n",
    "        return 'PQ:[%s]'%(', '.join([str(i) for i in self.queue]))\n",
    "\n",
    "    def append(self, node):\n",
    "        # TODO: finish this\n",
    "        raise NotImplementedError\n",
    "\n",
    "    def __contains__(self, key):\n",
    "        self.current = 0\n",
    "        return key in [n for v,n in self.queue]\n",
    "\n",
    "    def __eq__(self, other):\n",
    "        return self == other\n",
    "\n",
    "    def size(self):\n",
    "        return len(self.queue)\n",
    "    \n",
    "    def clear(self):\n",
    "        self.queue = []\n",
    "        \n",
    "    def top(self):\n",
    "        return self.queue[0]\n",
    "\n",
    "    __next__ = next"
   ]
  },
  {
   "cell_type": "code",
   "execution_count": 4,
   "metadata": {
    "collapsed": false
   },
   "outputs": [
    {
     "ename": "NotImplementedError",
     "evalue": "",
     "output_type": "error",
     "traceback": [
      "\u001b[0;31m---------------------------------------------------------------------------\u001b[0m",
      "\u001b[0;31mNotImplementedError\u001b[0m                       Traceback (most recent call last)",
      "\u001b[0;32m<ipython-input-4-472291f9f2dc>\u001b[0m in \u001b[0;36m<module>\u001b[0;34m()\u001b[0m\n\u001b[1;32m     17\u001b[0m     \u001b[1;32mreturn\u001b[0m \u001b[1;32mTrue\u001b[0m\u001b[1;33m\u001b[0m\u001b[0m\n\u001b[1;32m     18\u001b[0m \u001b[1;33m\u001b[0m\u001b[0m\n\u001b[0;32m---> 19\u001b[0;31m \u001b[0mcheck_pq\u001b[0m\u001b[1;33m(\u001b[0m\u001b[1;33m)\u001b[0m\u001b[1;33m\u001b[0m\u001b[0m\n\u001b[0m",
      "\u001b[0;32m<ipython-input-4-472291f9f2dc>\u001b[0m in \u001b[0;36mcheck_pq\u001b[0;34m()\u001b[0m\n\u001b[1;32m      5\u001b[0m     \u001b[1;32mfor\u001b[0m \u001b[0mi\u001b[0m \u001b[1;32min\u001b[0m \u001b[0mrange\u001b[0m\u001b[1;33m(\u001b[0m\u001b[1;36m10\u001b[0m\u001b[1;33m)\u001b[0m\u001b[1;33m:\u001b[0m\u001b[1;33m\u001b[0m\u001b[0m\n\u001b[1;32m      6\u001b[0m         \u001b[0ma\u001b[0m \u001b[1;33m=\u001b[0m \u001b[0mrandom\u001b[0m\u001b[1;33m.\u001b[0m\u001b[0mrandint\u001b[0m\u001b[1;33m(\u001b[0m\u001b[1;36m0\u001b[0m\u001b[1;33m,\u001b[0m\u001b[1;36m10000\u001b[0m\u001b[1;33m)\u001b[0m\u001b[1;33m\u001b[0m\u001b[0m\n\u001b[0;32m----> 7\u001b[0;31m         \u001b[0mpq\u001b[0m\u001b[1;33m.\u001b[0m\u001b[0mappend\u001b[0m\u001b[1;33m(\u001b[0m\u001b[1;33m(\u001b[0m\u001b[0ma\u001b[0m\u001b[1;33m,\u001b[0m\u001b[1;34m'a'\u001b[0m\u001b[1;33m)\u001b[0m\u001b[1;33m)\u001b[0m\u001b[1;33m\u001b[0m\u001b[0m\n\u001b[0m\u001b[1;32m      8\u001b[0m         \u001b[0mtemp_list\u001b[0m\u001b[1;33m.\u001b[0m\u001b[0mappend\u001b[0m\u001b[1;33m(\u001b[0m\u001b[0ma\u001b[0m\u001b[1;33m)\u001b[0m\u001b[1;33m\u001b[0m\u001b[0m\n\u001b[1;32m      9\u001b[0m \u001b[1;33m\u001b[0m\u001b[0m\n",
      "\u001b[0;32m<ipython-input-3-dfe18988bc06>\u001b[0m in \u001b[0;36mappend\u001b[0;34m(self, node)\u001b[0m\n\u001b[1;32m     40\u001b[0m     \u001b[1;32mdef\u001b[0m \u001b[0mappend\u001b[0m\u001b[1;33m(\u001b[0m\u001b[0mself\u001b[0m\u001b[1;33m,\u001b[0m \u001b[0mnode\u001b[0m\u001b[1;33m)\u001b[0m\u001b[1;33m:\u001b[0m\u001b[1;33m\u001b[0m\u001b[0m\n\u001b[1;32m     41\u001b[0m         \u001b[1;31m# TODO: finish this\u001b[0m\u001b[1;33m\u001b[0m\u001b[1;33m\u001b[0m\u001b[0m\n\u001b[0;32m---> 42\u001b[0;31m         \u001b[1;32mraise\u001b[0m \u001b[0mNotImplementedError\u001b[0m\u001b[1;33m\u001b[0m\u001b[0m\n\u001b[0m\u001b[1;32m     43\u001b[0m \u001b[1;33m\u001b[0m\u001b[0m\n\u001b[1;32m     44\u001b[0m     \u001b[1;32mdef\u001b[0m \u001b[0m__contains__\u001b[0m\u001b[1;33m(\u001b[0m\u001b[0mself\u001b[0m\u001b[1;33m,\u001b[0m \u001b[0mkey\u001b[0m\u001b[1;33m)\u001b[0m\u001b[1;33m:\u001b[0m\u001b[1;33m\u001b[0m\u001b[0m\n",
      "\u001b[0;31mNotImplementedError\u001b[0m: "
     ]
    }
   ],
   "source": [
    "def check_pq():\n",
    "    pq = PriorityQueue()\n",
    "    temp_list = []\n",
    "\n",
    "    for i in range(10):\n",
    "        a = random.randint(0,10000)\n",
    "        pq.append((a,'a'))\n",
    "        temp_list.append(a)\n",
    "\n",
    "    temp_list = sorted(temp_list)\n",
    "\n",
    "    for i in temp_list:\n",
    "        j = pq.pop()\n",
    "        if not i == j[0]:\n",
    "            return False\n",
    "\n",
    "    return True\n",
    "\n",
    "check_pq()"
   ]
  },
  {
   "cell_type": "markdown",
   "metadata": {},
   "source": [
    "Warm-up 2: BFS\n",
    "----------\n",
    "5 pts\n",
    "\n",
    "\n",
    "To get you started with handling graphs in networkx, implement and test breadth-first search over the test network.\n",
    "\n",
    "You'll do complete this by writing the \"breadth_first_search\" method. This returns a path of nodes from a given start node to a given end node, as a list.\n",
    "\n",
    "For this part, it is optional to use the PriorityQueue as your frontier. You will require it from the next question onwards. You can use it here too if you want to be consistent.\n",
    "\n",
    "Notes:\n",
    "1. You need to include start and goal in the path.\n",
    "2. If your start and goal are the same then just return [].\n",
    "\n",
    "Both of the above are just to keep your results consistent with our test cases.\n",
    "\n",
    "You can access all the neighbors of a given node by calling graph[node], or graph.neighbors(node) ONLY. To measure your search performance, the modified version of networkx provided keeps track of which nodes you have accessed in this way (this is referred to as the set of 'Explored' nodes). To retrieve the set of nodes you've explored in this way, call graph.get_explored_nodes(). If you wish to perform multiple searches on the same graph instance, call 'graph.reset_search()' to clear out the current set of 'Explored' nodes. Note however, that you will not have access to the explored set on the test server. Also, there is no need to reset the graph while submitting to the test server."
   ]
  },
  {
   "cell_type": "code",
   "execution_count": 7,
   "metadata": {
    "collapsed": false
   },
   "outputs": [
    {
     "ename": "NotImplementedError",
     "evalue": "",
     "output_type": "error",
     "traceback": [
      "\u001b[0;31m---------------------------------------------------------------------------\u001b[0m",
      "\u001b[0;31mNotImplementedError\u001b[0m                       Traceback (most recent call last)",
      "\u001b[0;32m<ipython-input-7-e6739efb92c6>\u001b[0m in \u001b[0;36m<module>\u001b[0;34m()\u001b[0m\n\u001b[1;32m      2\u001b[0m \u001b[1;32mdef\u001b[0m \u001b[0mt\u001b[0m\u001b[1;33m(\u001b[0m\u001b[1;33m)\u001b[0m\u001b[1;33m:\u001b[0m\u001b[1;33m\u001b[0m\u001b[0m\n\u001b[1;32m      3\u001b[0m     \u001b[1;32mraise\u001b[0m \u001b[0mNotImplementedError\u001b[0m\u001b[1;33m\u001b[0m\u001b[0m\n\u001b[0;32m----> 4\u001b[0;31m \u001b[0mt\u001b[0m\u001b[1;33m(\u001b[0m\u001b[1;33m)\u001b[0m\u001b[1;33m\u001b[0m\u001b[0m\n\u001b[0m",
      "\u001b[0;32m<ipython-input-7-e6739efb92c6>\u001b[0m in \u001b[0;36mt\u001b[0;34m()\u001b[0m\n\u001b[1;32m      1\u001b[0m \u001b[0mromania\u001b[0m\u001b[1;33m.\u001b[0m\u001b[0mreset_search\u001b[0m\u001b[1;33m(\u001b[0m\u001b[1;33m)\u001b[0m\u001b[1;33m\u001b[0m\u001b[0m\n\u001b[1;32m      2\u001b[0m \u001b[1;32mdef\u001b[0m \u001b[0mt\u001b[0m\u001b[1;33m(\u001b[0m\u001b[1;33m)\u001b[0m\u001b[1;33m:\u001b[0m\u001b[1;33m\u001b[0m\u001b[0m\n\u001b[0;32m----> 3\u001b[0;31m     \u001b[1;32mraise\u001b[0m \u001b[0mNotImplementedError\u001b[0m\u001b[1;33m\u001b[0m\u001b[0m\n\u001b[0m\u001b[1;32m      4\u001b[0m \u001b[0mt\u001b[0m\u001b[1;33m(\u001b[0m\u001b[1;33m)\u001b[0m\u001b[1;33m\u001b[0m\u001b[0m\n",
      "\u001b[0;31mNotImplementedError\u001b[0m: "
     ]
    }
   ],
   "source": [
    "romania.reset_search()\n",
    "def t():\n",
    "    raise NotImplementedError\n",
    "t()"
   ]
  },
  {
   "cell_type": "code",
   "execution_count": 8,
   "metadata": {
    "collapsed": false
   },
   "outputs": [
    {
     "data": {
      "text/plain": [
       "['a']"
      ]
     },
     "execution_count": 8,
     "metadata": {},
     "output_type": "execute_result"
    }
   ],
   "source": [
    "a = ['a']\n",
    "b = a.copy()\n",
    "b"
   ]
  },
  {
   "cell_type": "code",
   "execution_count": 9,
   "metadata": {
    "collapsed": false
   },
   "outputs": [
    {
     "ename": "NameError",
     "evalue": "name 'graph' is not defined",
     "output_type": "error",
     "traceback": [
      "\u001b[0;31m---------------------------------------------------------------------------\u001b[0m",
      "\u001b[0;31mNameError\u001b[0m                                 Traceback (most recent call last)",
      "\u001b[0;32m<ipython-input-9-351d1f6a162b>\u001b[0m in \u001b[0;36m<module>\u001b[0;34m()\u001b[0m\n\u001b[0;32m----> 1\u001b[0;31m \u001b[0mgraph\u001b[0m\u001b[1;33m[\u001b[0m\u001b[1;34m'f'\u001b[0m\u001b[1;33m]\u001b[0m\u001b[1;33m[\u001b[0m\u001b[1;34m'b'\u001b[0m\u001b[1;33m]\u001b[0m\u001b[1;33m[\u001b[0m\u001b[1;34m'weight'\u001b[0m\u001b[1;33m]\u001b[0m\u001b[1;33m\u001b[0m\u001b[0m\n\u001b[0m",
      "\u001b[0;31mNameError\u001b[0m: name 'graph' is not defined"
     ]
    }
   ],
   "source": [
    "graph['f']['b']['weight']"
   ]
  },
  {
   "cell_type": "code",
   "execution_count": 10,
   "metadata": {
    "collapsed": false
   },
   "outputs": [
    {
     "ename": "NameError",
     "evalue": "name 'graph' is not defined",
     "output_type": "error",
     "traceback": [
      "\u001b[0;31m---------------------------------------------------------------------------\u001b[0m",
      "\u001b[0;31mNameError\u001b[0m                                 Traceback (most recent call last)",
      "\u001b[0;32m<ipython-input-10-aa55b1102690>\u001b[0m in \u001b[0;36m<module>\u001b[0;34m()\u001b[0m\n\u001b[0;32m----> 1\u001b[0;31m \u001b[0mtype\u001b[0m\u001b[1;33m(\u001b[0m\u001b[0mgraph\u001b[0m\u001b[1;33m[\u001b[0m\u001b[1;34m'f'\u001b[0m\u001b[1;33m]\u001b[0m\u001b[1;33m[\u001b[0m\u001b[1;34m'b'\u001b[0m\u001b[1;33m]\u001b[0m\u001b[1;33m)\u001b[0m\u001b[1;33m\u001b[0m\u001b[0m\n\u001b[0m",
      "\u001b[0;31mNameError\u001b[0m: name 'graph' is not defined"
     ]
    }
   ],
   "source": [
    "type(graph['f']['b'])"
   ]
  },
  {
   "cell_type": "code",
   "execution_count": 11,
   "metadata": {
    "collapsed": false
   },
   "outputs": [
    {
     "name": "stdout",
     "output_type": "stream",
     "text": [
      "s\n",
      "b\n"
     ]
    }
   ],
   "source": [
    "for i in romania['f']:\n",
    "    print(i)"
   ]
  },
  {
   "cell_type": "code",
   "execution_count": 12,
   "metadata": {
    "collapsed": false
   },
   "outputs": [
    {
     "data": {
      "text/plain": [
       "False"
      ]
     },
     "execution_count": 12,
     "metadata": {},
     "output_type": "execute_result"
    }
   ],
   "source": [
    "'b' in romania.get_explored_nodes()"
   ]
  },
  {
   "cell_type": "code",
   "execution_count": 13,
   "metadata": {
    "collapsed": false
   },
   "outputs": [
    {
     "data": {
      "text/plain": [
       "['a', 'b']"
      ]
     },
     "execution_count": 13,
     "metadata": {},
     "output_type": "execute_result"
    }
   ],
   "source": [
    "['a'] + ['b']"
   ]
  },
  {
   "cell_type": "code",
   "execution_count": 14,
   "metadata": {
    "collapsed": false
   },
   "outputs": [
    {
     "ename": "NameError",
     "evalue": "name 'start' is not defined",
     "output_type": "error",
     "traceback": [
      "\u001b[0;31m---------------------------------------------------------------------------\u001b[0m",
      "\u001b[0;31mNameError\u001b[0m                                 Traceback (most recent call last)",
      "\u001b[0;32m<ipython-input-14-01275fff4064>\u001b[0m in \u001b[0;36m<module>\u001b[0;34m()\u001b[0m\n\u001b[1;32m      1\u001b[0m \u001b[0mpaths\u001b[0m \u001b[1;33m=\u001b[0m \u001b[1;33m[\u001b[0m\u001b[1;33m]\u001b[0m\u001b[1;33m\u001b[0m\u001b[0m\n\u001b[1;32m      2\u001b[0m \u001b[0mlen\u001b[0m\u001b[1;33m(\u001b[0m\u001b[0mpaths\u001b[0m\u001b[1;33m)\u001b[0m\u001b[1;33m\u001b[0m\u001b[0m\n\u001b[0;32m----> 3\u001b[0;31m \u001b[0mqueue\u001b[0m \u001b[1;33m=\u001b[0m \u001b[1;33m[\u001b[0m\u001b[0mstart\u001b[0m\u001b[1;33m]\u001b[0m\u001b[1;33m\u001b[0m\u001b[0m\n\u001b[0m\u001b[1;32m      4\u001b[0m \u001b[0mpaths\u001b[0m \u001b[1;33m=\u001b[0m \u001b[1;33m[\u001b[0m\u001b[1;33m[\u001b[0m\u001b[0mstart\u001b[0m\u001b[1;33m]\u001b[0m\u001b[1;33m]\u001b[0m\u001b[1;33m\u001b[0m\u001b[0m\n\u001b[1;32m      5\u001b[0m \u001b[0mprint\u001b[0m\u001b[1;33m(\u001b[0m\u001b[0mpaths\u001b[0m\u001b[1;33m)\u001b[0m\u001b[1;33m\u001b[0m\u001b[0m\n",
      "\u001b[0;31mNameError\u001b[0m: name 'start' is not defined"
     ]
    }
   ],
   "source": [
    "    paths = []\n",
    "    len(paths)\n",
    "    queue = [start]\n",
    "    paths = [[start]]\n",
    "    print(paths)\n",
    "    paths.append(['c','b'])\n",
    "    print(paths)"
   ]
  },
  {
   "cell_type": "code",
   "execution_count": 15,
   "metadata": {
    "collapsed": false
   },
   "outputs": [],
   "source": [
    "for l in paths:\n",
    "    print(l[-1])"
   ]
  },
  {
   "cell_type": "code",
   "execution_count": 16,
   "metadata": {
    "collapsed": false
   },
   "outputs": [
    {
     "name": "stdout",
     "output_type": "stream",
     "text": [
      "['a', 's', 'f', 'b', 'u']\n"
     ]
    }
   ],
   "source": [
    "    #In fact the queue here is the same as the frontier concept in the lecture\n",
    "    romania.reset_search()\n",
    "    start = 'a'\n",
    "    goal = 'u'\n",
    "    graph = romania\n",
    "    queue = [start]\n",
    "    paths = [[start]]\n",
    "    def bfs():\n",
    "        #print(len(queue))\n",
    "        while len(queue)> 0:\n",
    "            node  = queue.pop(0)\n",
    "            graph[node] #Mark this as searched\n",
    "            for l in paths: #Find the appropriate path to add new nodes\n",
    "                if node == l[-1]:\n",
    "                    TempPath = l\n",
    "                    break\n",
    "            for n in graph[node]: #For all the nodes who are the neighbor of this node\n",
    "                if (not n in graph.get_explored_nodes()) and (not n in queue): #Not explored and not frontier\n",
    "                    queue.append(n) #Get all the next nodes that are available \n",
    "                    t = TempPath.copy()\n",
    "                    t.append(n)\n",
    "                    paths.append(t)\n",
    "                    if n==goal:\n",
    "                        print(paths[-1])\n",
    "                        break\n",
    "            \n",
    "    bfs()"
   ]
  },
  {
   "cell_type": "code",
   "execution_count": 17,
   "metadata": {
    "collapsed": false
   },
   "outputs": [],
   "source": [
    "    graph.reset_search()\n",
    "    def breadth_first_search(graph, start, goal):\n",
    "        \"\"\"Run a breadth-first search from start\n",
    "        to goal and return the path.\"\"\"\n",
    "        #print(len(queue))\n",
    "        queue = [start]\n",
    "        paths = [[start]]\n",
    "        while len(queue)> 0:\n",
    "            node  = queue.pop(0)\n",
    "            graph[node] #Mark this as searched\n",
    "            for l in paths: #Find the appropriate path to add new nodes\n",
    "                if node == l[-1]:\n",
    "                    TempPath = l\n",
    "                    break\n",
    "            for n in graph[node]: #For all the nodes who are the neighbor of this node\n",
    "                if (not n in graph.get_explored_nodes()) and (not n in queue): #Not explored and not frontier\n",
    "                    queue.append(n) #Get all the next nodes that are available \n",
    "                    t = TempPath.copy()\n",
    "                    t.append(n)\n",
    "                    paths.append(t)\n",
    "                    if n==goal:\n",
    "                        #print(paths[-1])\n",
    "                        return paths[-1]\n",
    "                        break"
   ]
  },
  {
   "cell_type": "code",
   "execution_count": 18,
   "metadata": {
    "collapsed": false
   },
   "outputs": [
    {
     "data": {
      "text/plain": [
       "['a', 's', 'f', 'b', 'u']"
      ]
     },
     "execution_count": 18,
     "metadata": {},
     "output_type": "execute_result"
    }
   ],
   "source": [
    "breadth_first_search(graph, start, goal)"
   ]
  },
  {
   "cell_type": "code",
   "execution_count": 19,
   "metadata": {
    "collapsed": true
   },
   "outputs": [],
   "source": [
    "# This function exists to help you visually debug your code.\n",
    "# Feel free to modify it in any way you like.\n",
    "# graph should be a networkx graph\n",
    "# node_positions should be a dictionary mapping nodes to x,y coordinates\n",
    "\n",
    "# IMP - This function may modify the graph you pass to it.\n",
    "def draw_graph(graph, node_positions={}, start=None, goal=None, path=[]):\n",
    "\n",
    "    explored = list(graph.get_explored_nodes())\n",
    "    \n",
    "    labels ={}\n",
    "    for node in graph:\n",
    "        labels[node]=node\n",
    "        \n",
    "    if not node_positions:\n",
    "        node_positions = networkx.spring_layout(graph)\n",
    "\n",
    "    networkx.draw_networkx_nodes(graph, node_positions)\n",
    "    networkx.draw_networkx_edges(graph, node_positions, style='dashed')\n",
    "    networkx.draw_networkx_labels(graph,node_positions, labels)\n",
    "    \n",
    "    networkx.draw_networkx_nodes(graph, node_positions, nodelist=explored, node_color='g') \n",
    "\n",
    "    if path:\n",
    "        edges = [(path[i], path[i+1]) for i in range(0, len(path)-1)]\n",
    "        networkx.draw_networkx_edges(graph, node_positions, edgelist=edges, edge_color='b')\n",
    "   \n",
    "    if start:\n",
    "        networkx.draw_networkx_nodes(graph, node_positions, nodelist=[start], node_color='b')\n",
    "    \n",
    "    if goal:\n",
    "        networkx.draw_networkx_nodes(graph, node_positions, nodelist=[goal], node_color='y')\n",
    "\n",
    "    plt.plot()\n",
    "    plt.show()"
   ]
  },
  {
   "cell_type": "code",
   "execution_count": 20,
   "metadata": {
    "collapsed": false
   },
   "outputs": [
    {
     "data": {
      "image/png": "[encoded data removed]",
      "text/plain": [
       "<matplotlib.figure.Figure at 0x8217d10>"
      ]
     },
     "metadata": {},
     "output_type": "display_data"
    }
   ],
   "source": [
    "\"\"\"Testing and visualizing breadth-first search\n",
    "in the notebook.\"\"\"\n",
    "start = 'a'\n",
    "goal = 'u'\n",
    "\n",
    "node_positions = {n: romania.node[n]['pos'] for n in romania.node.keys()}\n",
    "\n",
    "romania.reset_search()\n",
    "path = breadth_first_search(romania, start, goal)\n",
    "#draw_graph(romania, node_positions=node_positions, start=start, goal=goal, path=['a','s','f','b','u'])\n",
    "draw_graph(romania, node_positions=node_positions, start=start, goal=goal, path=path)\n",
    "#['s', 'z', 't', 'r', 'o', 'f', 'l', 'p', 'c', 'b', 'm', 'd', 'u']\n",
    "#['a', 'z', 't', 's', 'o', 'm', 'p', 'c', 'd', 'u']"
   ]
  },
  {
   "cell_type": "markdown",
   "metadata": {},
   "source": [
    "Warmup Examples\n",
    "----------\n",
    "\n",
    "Some examples of correct warmup searches can be found [here](https://docs.google.com/document/d/18Bl7awruAabUXAhMy-T88hWKTteueEb7hk6gA32GulQ/pub).\n",
    "\n",
    "\n"
   ]
  },
  {
   "cell_type": "markdown",
   "metadata": {},
   "source": [
    "Warmup 3: Uniform-cost search\n",
    "----------------------------\n",
    "10 points\n",
    "\n",
    "Implement uniform-cost search, using PriorityQueue as your frontier. From now on, PriorityQueue should be your default frontier.\n",
    "\n",
    "uniform_cost_search() should return the same arguments as breadth-first search: the path to the goal node (as a list of nodes).\n",
    "\n",
    "\n",
    "Notes:\n",
    "1. You do need to include start and goal in the path.\n",
    "2. If your start and goal are the same then just return []\n",
    "3. We will provide some margin of error in grading the size of your 'Explored' set, but it should be close to the results provided by our reference implementation.\n",
    "\n",
    "The above are just to keep your results consistent with our test cases."
   ]
  },
  {
   "cell_type": "code",
   "execution_count": 65,
   "metadata": {
    "collapsed": false
   },
   "outputs": [
    {
     "ename": "AttributeError",
     "evalue": "module 'pip' has no attribute 'install'",
     "output_type": "error",
     "traceback": [
      "\u001b[0;31m---------------------------------------------------------------------------\u001b[0m",
      "\u001b[0;31mAttributeError\u001b[0m                            Traceback (most recent call last)",
      "\u001b[0;32m<ipython-input-65-63165fa62357>\u001b[0m in \u001b[0;36m<module>\u001b[0;34m()\u001b[0m\n\u001b[1;32m      1\u001b[0m \u001b[1;32mimport\u001b[0m \u001b[0mpip\u001b[0m \u001b[1;32mas\u001b[0m \u001b[0mpip\u001b[0m\u001b[1;33m\u001b[0m\u001b[0m\n\u001b[0;32m----> 2\u001b[0;31m \u001b[0mpip\u001b[0m\u001b[1;33m.\u001b[0m\u001b[0minstall\u001b[0m\u001b[1;33m(\u001b[0m\u001b[1;34m'priorityq'\u001b[0m\u001b[1;33m)\u001b[0m\u001b[1;33m\u001b[0m\u001b[0m\n\u001b[0m",
      "\u001b[0;31mAttributeError\u001b[0m: module 'pip' has no attribute 'install'"
     ]
    }
   ],
   "source": [
    "import pip as pip\n",
    "pip.install('priorityq')"
   ]
  },
  {
   "cell_type": "code",
   "execution_count": 70,
   "metadata": {
    "collapsed": false
   },
   "outputs": [
    {
     "ename": "AttributeError",
     "evalue": "module 'priorityq' has no attribute 'PriorityQ'",
     "output_type": "error",
     "traceback": [
      "\u001b[0;31m---------------------------------------------------------------------------\u001b[0m",
      "\u001b[0;31mAttributeError\u001b[0m                            Traceback (most recent call last)",
      "\u001b[0;32m<ipython-input-70-78c0946f0690>\u001b[0m in \u001b[0;36m<module>\u001b[0;34m()\u001b[0m\n\u001b[1;32m      2\u001b[0m \u001b[1;32mfrom\u001b[0m \u001b[0mqueue\u001b[0m \u001b[1;32mimport\u001b[0m \u001b[0mQueue\u001b[0m\u001b[1;33m\u001b[0m\u001b[0m\n\u001b[1;32m      3\u001b[0m \u001b[1;32mimport\u001b[0m \u001b[0mpriorityq\u001b[0m \u001b[1;32mas\u001b[0m \u001b[0mpq\u001b[0m\u001b[1;33m\u001b[0m\u001b[0m\n\u001b[0;32m----> 4\u001b[0;31m \u001b[0mpq\u001b[0m\u001b[1;33m.\u001b[0m\u001b[0mPriorityQ\u001b[0m\u001b[1;33m(\u001b[0m\u001b[1;33m)\u001b[0m\u001b[1;33m\u001b[0m\u001b[0m\n\u001b[0m\u001b[1;32m      5\u001b[0m \u001b[1;32mdef\u001b[0m \u001b[0muniform_cost_search\u001b[0m\u001b[1;33m(\u001b[0m\u001b[0mgraph\u001b[0m\u001b[1;33m,\u001b[0m \u001b[0mstart\u001b[0m\u001b[1;33m,\u001b[0m \u001b[0mgoal\u001b[0m\u001b[1;33m)\u001b[0m\u001b[1;33m:\u001b[0m\u001b[1;33m\u001b[0m\u001b[0m\n\u001b[1;32m      6\u001b[0m     \"\"\"Run uniform-cost search from start\n",
      "\u001b[0;31mAttributeError\u001b[0m: module 'priorityq' has no attribute 'PriorityQ'"
     ]
    }
   ],
   "source": [
    "from queue import PriorityQueue #For now we use the implemented Queue\n",
    "from queue import Queue\n",
    "import priorityq as pq\n",
    "pq.PriorityQ()\n",
    "def uniform_cost_search(graph, start, goal):\n",
    "    \"\"\"Run uniform-cost search from start\n",
    "    to goal and return the path\"\"\"\n",
    "    # TODO: finish this function\n",
    "    raise NotImplementedError\n",
    "    # return path"
   ]
  },
  {
   "cell_type": "code",
   "execution_count": 112,
   "metadata": {
    "collapsed": false
   },
   "outputs": [
    {
     "name": "stdout",
     "output_type": "stream",
     "text": [
      "Path found: ['a', 's', 'r', 'p', 'b', 'u'], Cost = 503\n"
     ]
    },
    {
     "data": {
      "text/plain": [
       "['a', 's', 'r', 'p', 'b', 'u']"
      ]
     },
     "execution_count": 112,
     "metadata": {},
     "output_type": "execute_result"
    }
   ],
   "source": [
    "def search(graph, start, goal):\n",
    "    end = goal\n",
    "    queue = PriorityQueue()\n",
    "    queue.put((0, [start]))\n",
    "    \n",
    "    while not queue.empty():\n",
    "        node = queue.get()\n",
    "        current = node[1][len(node[1]) - 1]\n",
    "        #print(node)\n",
    "        if end in node[1]:\n",
    "            print(\"Path found: \" + str(node[1]) + \", Cost = \" + str(node[0]))\n",
    "            return node[1]\n",
    "            break\n",
    "        \n",
    "        cost = node[0]\n",
    "        for neighbor in graph[current]:\n",
    "            if neighbor not in graph.get_explored_nodes():\n",
    "                temp = node[1][:]\n",
    "                temp.append(neighbor)\n",
    "                queue.put((cost + graph[current][neighbor]['weight'], temp))\n",
    "romania.reset_search()\n",
    "search(graph, start, goal)"
   ]
  },
  {
   "cell_type": "code",
   "execution_count": 68,
   "metadata": {
    "collapsed": false
   },
   "outputs": [
    {
     "ename": "AttributeError",
     "evalue": "'PriorityQueue' object has no attribute 'insert'",
     "output_type": "error",
     "traceback": [
      "\u001b[0;31m---------------------------------------------------------------------------\u001b[0m",
      "\u001b[0;31mAttributeError\u001b[0m                            Traceback (most recent call last)",
      "\u001b[0;32m<ipython-input-68-a64cefd38278>\u001b[0m in \u001b[0;36m<module>\u001b[0;34m()\u001b[0m\n\u001b[1;32m     23\u001b[0m         \u001b[0mseen\u001b[0m\u001b[1;33m[\u001b[0m\u001b[0mpoint\u001b[0m\u001b[1;33m]\u001b[0m \u001b[1;33m=\u001b[0m \u001b[0mcost\u001b[0m\u001b[1;33m\u001b[0m\u001b[0m\n\u001b[1;32m     24\u001b[0m     \u001b[1;32mreturn\u001b[0m \u001b[1;32mNone\u001b[0m\u001b[1;33m\u001b[0m\u001b[0m\n\u001b[0;32m---> 25\u001b[0;31m \u001b[0muniform_cost_search\u001b[0m\u001b[1;33m(\u001b[0m\u001b[0mgraph\u001b[0m\u001b[1;33m,\u001b[0m \u001b[0mstart\u001b[0m\u001b[1;33m,\u001b[0m \u001b[0mgoal\u001b[0m\u001b[1;33m)\u001b[0m\u001b[1;33m\u001b[0m\u001b[0m\n\u001b[0m",
      "\u001b[0;32m<ipython-input-68-a64cefd38278>\u001b[0m in \u001b[0;36muniform_cost_search\u001b[0;34m(graph, start, goal)\u001b[0m\n\u001b[1;32m      6\u001b[0m     \"\"\"\n\u001b[1;32m      7\u001b[0m     \u001b[0mq\u001b[0m \u001b[1;33m=\u001b[0m \u001b[0mPriorityQueue\u001b[0m\u001b[1;33m(\u001b[0m\u001b[1;33m)\u001b[0m\u001b[1;33m\u001b[0m\u001b[0m\n\u001b[0;32m----> 8\u001b[0;31m     \u001b[0mq\u001b[0m\u001b[1;33m.\u001b[0m\u001b[0minsert\u001b[0m\u001b[1;33m(\u001b[0m\u001b[1;33m(\u001b[0m\u001b[1;36m0\u001b[0m\u001b[1;33m,\u001b[0m \u001b[0mstart\u001b[0m\u001b[1;33m,\u001b[0m \u001b[1;33m[\u001b[0m\u001b[1;33m]\u001b[0m\u001b[1;33m)\u001b[0m\u001b[1;33m,\u001b[0m \u001b[0mpriority\u001b[0m\u001b[1;33m=\u001b[0m\u001b[1;36m0\u001b[0m\u001b[1;33m)\u001b[0m\u001b[1;33m\u001b[0m\u001b[0m\n\u001b[0m\u001b[1;32m      9\u001b[0m     \u001b[0mseen\u001b[0m \u001b[1;33m=\u001b[0m \u001b[1;33m{\u001b[0m\u001b[1;33m}\u001b[0m\u001b[1;33m\u001b[0m\u001b[0m\n\u001b[1;32m     10\u001b[0m \u001b[1;33m\u001b[0m\u001b[0m\n",
      "\u001b[0;31mAttributeError\u001b[0m: 'PriorityQueue' object has no attribute 'insert'"
     ]
    }
   ],
   "source": [
    "    def uniform_cost_search(graph, start, goal):\n",
    "        \"\"\"Return the shortest path from start to goal node.\n",
    "        args:\n",
    "            start: the node to begin the path\n",
    "            goal: the node to end the path\n",
    "        \"\"\"\n",
    "        q = pq.PriorityQ()\n",
    "        q.insert((0, start, []), priority=0)\n",
    "        seen = {}\n",
    "\n",
    "        while q:\n",
    "            cost, point, path = q.pop()\n",
    "            if point in seen and seen[point] < cost:\n",
    "                continue\n",
    "            path = path + [point]\n",
    "            if point == goal:\n",
    "                return path\n",
    "            for child in graph[point]:\n",
    "                child_cost = graph[point][child]['weight']\n",
    "                if child not in seen:\n",
    "                    tot_cost = child_cost + cost\n",
    "                    q.insert((tot_cost, child, path), priority=tot_cost)\n",
    "            seen[point] = cost\n",
    "        return None\n",
    "    uniform_cost_search(graph, start, goal)"
   ]
  },
  {
   "cell_type": "code",
   "execution_count": 57,
   "metadata": {
    "collapsed": true
   },
   "outputs": [],
   "source": [
    "def ucs(graph, start, goal):\n",
    "    queue = PriorityQueue()\n",
    "    queue.put((0, start, []), priority=0)\n",
    "    paths = [[start]]\n",
    "    while queue:\n",
    "        #print(queue.get())\n",
    "        cost, node = queue.get()\n",
    "        if point in seen and seen[point] < cost:\n",
    "            continue\n",
    "        path = path + [point]\n",
    "        if node not in graph.get_explored_nodes():\n",
    "            graph[node]\n",
    "            if node == goal:\n",
    "                print(paths)\n",
    "                return\n",
    "            for i in graph[node]:\n",
    "                if i not in graph.get_explored_nodes():\n",
    "                    total_cost = cost + graph[node][i]['weight']\n",
    "                    queue.put((total_cost, i))"
   ]
  },
  {
   "cell_type": "code",
   "execution_count": 72,
   "metadata": {
    "collapsed": false
   },
   "outputs": [
    {
     "ename": "TypeError",
     "evalue": "put() got an unexpected keyword argument 'priority'",
     "output_type": "error",
     "traceback": [
      "\u001b[0;31m---------------------------------------------------------------------------\u001b[0m",
      "\u001b[0;31mTypeError\u001b[0m                                 Traceback (most recent call last)",
      "\u001b[0;32m<ipython-input-72-a80ec2787791>\u001b[0m in \u001b[0;36m<module>\u001b[0;34m()\u001b[0m\n\u001b[1;32m      1\u001b[0m \u001b[0mqueue\u001b[0m \u001b[1;33m=\u001b[0m \u001b[0mPriorityQueue\u001b[0m\u001b[1;33m(\u001b[0m\u001b[1;33m)\u001b[0m\u001b[1;33m\u001b[0m\u001b[0m\n\u001b[0;32m----> 2\u001b[0;31m \u001b[0mqueue\u001b[0m\u001b[1;33m.\u001b[0m\u001b[0mput\u001b[0m\u001b[1;33m(\u001b[0m\u001b[1;33m(\u001b[0m\u001b[1;36m0\u001b[0m\u001b[1;33m,\u001b[0m \u001b[0mstart\u001b[0m\u001b[1;33m,\u001b[0m \u001b[1;33m[\u001b[0m\u001b[1;33m]\u001b[0m\u001b[1;33m)\u001b[0m\u001b[1;33m,\u001b[0m \u001b[0mpriority\u001b[0m\u001b[1;33m=\u001b[0m\u001b[1;36m0\u001b[0m\u001b[1;33m)\u001b[0m\u001b[1;33m\u001b[0m\u001b[0m\n\u001b[0m",
      "\u001b[0;31mTypeError\u001b[0m: put() got an unexpected keyword argument 'priority'"
     ]
    }
   ],
   "source": [
    "    queue = PriorityQueue()\n",
    "    queue.put((0, start, []), priority=0)"
   ]
  },
  {
   "cell_type": "code",
   "execution_count": 75,
   "metadata": {
    "collapsed": false
   },
   "outputs": [
    {
     "data": {
      "text/plain": [
       "{'weight': 140}"
      ]
     },
     "execution_count": 75,
     "metadata": {},
     "output_type": "execute_result"
    }
   ],
   "source": [
    "graph['a']['s']"
   ]
  },
  {
   "cell_type": "code",
   "execution_count": 60,
   "metadata": {
    "collapsed": false
   },
   "outputs": [
    {
     "name": "stdout",
     "output_type": "stream",
     "text": [
      "[['a'], ['a', 'a'], ['a', 'z'], ['a', 'z', 't'], ['a', 'z', 't', 's'], ['a', 'z', 't', 's', 'o'], ['a', 'z', 't', 's', 'o', 'r'], ['a', 'z', 't', 's', 'o', 'r', 'l'], ['a', 'z', 't', 's', 'o', 'r', 'l', 'f'], ['a', 'z', 't', 's', 'o', 'r', 'l', 'f', 'o'], ['a', 'z', 't', 's', 'o', 'm'], ['a', 'z', 't', 's', 'o', 'm', 'p'], ['a', 'z', 't', 's', 'o', 'm', 'p', 'c'], ['a', 'z', 't', 's', 'o', 'm', 'p', 'c', 'd'], ['a', 'z', 't', 's', 'o', 'm', 'p', 'c', 'd', 'b'], ['a', 'z', 't', 's', 'o', 'm', 'p', 'c', 'd', 'b', 'b'], ['a', 'z', 't', 's', 'o', 'm', 'p', 'c', 'd', 'b', 'c'], ['a', 'z', 't', 's', 'o', 'm', 'p', 'c', 'd'], ['a', 'z', 't', 's', 'o', 'm', 'p', 'c', 'd', 'u']]\n"
     ]
    }
   ],
   "source": [
    "romania.reset_search()\n",
    "ucs(graph, start, goal)"
   ]
  },
  {
   "cell_type": "code",
   "execution_count": 81,
   "metadata": {
    "collapsed": false
   },
   "outputs": [
    {
     "name": "stdout",
     "output_type": "stream",
     "text": [
      "Path found: ['a', 's', 'r', 'p', 'b', 'u'], Cost = 503\n"
     ]
    },
    {
     "data": {
      "image/png": "[encoded data removed]",
      "text/plain": [
       "<matplotlib.figure.Figure at 0xa23d790>"
      ]
     },
     "metadata": {},
     "output_type": "display_data"
    }
   ],
   "source": [
    "start = 'a'\n",
    "goal = 'u'\n",
    "\n",
    "node_positions = {n: romania.node[n]['pos'] for n in romania.node.keys()}\n",
    "\n",
    "romania.reset_search()\n",
    "path = search(romania, start, goal)\n",
    "#draw_graph(romania, node_positions=node_positions, start=start, goal=goal, path=['a','s','f','b','u'])\n",
    "draw_graph(romania, node_positions=node_positions, start=start, goal=goal, path=path)\n",
    "#['s', 'z', 't', 'r', 'o', 'f', 'l', 'p', 'c', 'b', 'm', 'd', 'u']\n",
    "#['a', 'z', 't', 's', 'o', 'm', 'p', 'c', 'd', 'u']"
   ]
  },
  {
   "cell_type": "markdown",
   "metadata": {},
   "source": [
    "Warmup 4: A\\* search\n",
    "------------------\n",
    "10 points\n",
    "Implement A\\* search using Euclidean distance as your heuristic. You'll need to implement heuristic_euclid() then pass that function to a_star() as the heuristic parameter. We provide null_heuristic() as a baseline heuristic to test against when calling a_star tests.\n",
    "\n",
    "Hint: you can find a node's position by calling:\n",
    "\n",
    "     graph.node[n]['pos']      - Romania map\n",
    "     graph.node[n]['position'] - Atlanta map\n",
    "     \n",
    "Tip: use graph.node[n].get('position') or graph.node[n].get('pos') to check if the key is available.\n",
    "\n",
    "Notes:\n",
    "1. You do need to include start and goal in the path.\n",
    "2. If your start and goal are the same then just return []\n",
    "3. We will provide some margin of error in grading the size of your 'Explored' set, but it should be close to the results provided by our reference implementation.\n",
    "\n",
    "The above are just to keep your results consistent with our test cases."
   ]
  },
  {
   "cell_type": "code",
   "execution_count": 85,
   "metadata": {
    "collapsed": false
   },
   "outputs": [
    {
     "ename": "TypeError",
     "evalue": "unsupported operand type(s) for -: 'tuple' and 'tuple'",
     "output_type": "error",
     "traceback": [
      "\u001b[0;31m---------------------------------------------------------------------------\u001b[0m",
      "\u001b[0;31mTypeError\u001b[0m                                 Traceback (most recent call last)",
      "\u001b[0;32m<ipython-input-85-2cfc04d3aa91>\u001b[0m in \u001b[0;36m<module>\u001b[0;34m()\u001b[0m\n\u001b[0;32m----> 1\u001b[0;31m \u001b[0mgraph\u001b[0m\u001b[1;33m.\u001b[0m\u001b[0mnode\u001b[0m\u001b[1;33m[\u001b[0m\u001b[1;34m's'\u001b[0m\u001b[1;33m]\u001b[0m\u001b[1;33m[\u001b[0m\u001b[1;34m'pos'\u001b[0m\u001b[1;33m]\u001b[0m\u001b[1;33m-\u001b[0m\u001b[0mgraph\u001b[0m\u001b[1;33m.\u001b[0m\u001b[0mnode\u001b[0m\u001b[1;33m[\u001b[0m\u001b[1;34m'a'\u001b[0m\u001b[1;33m]\u001b[0m\u001b[1;33m[\u001b[0m\u001b[1;34m'pos'\u001b[0m\u001b[1;33m]\u001b[0m\u001b[1;33m\u001b[0m\u001b[0m\n\u001b[0m",
      "\u001b[0;31mTypeError\u001b[0m: unsupported operand type(s) for -: 'tuple' and 'tuple'"
     ]
    }
   ],
   "source": [
    "graph.node['s']['pos']-graph.node['a']['pos']"
   ]
  },
  {
   "cell_type": "code",
   "execution_count": 93,
   "metadata": {
    "collapsed": false
   },
   "outputs": [
    {
     "name": "stdout",
     "output_type": "stream",
     "text": [
      "133225\n",
      "20164\n"
     ]
    }
   ],
   "source": [
    "v = 'a'\n",
    "goal = 'u'\n",
    "a1 = graph.node[v]['pos']\n",
    "a2 = graph.node[goal]['pos']\n",
    "for a,b in zip(a1,a2):\n",
    "    print((a-b)**2)"
   ]
  },
  {
   "cell_type": "code",
   "execution_count": 96,
   "metadata": {
    "collapsed": false
   },
   "outputs": [
    {
     "data": {
      "text/plain": [
       "1.4142135623730951"
      ]
     },
     "execution_count": 96,
     "metadata": {},
     "output_type": "execute_result"
    }
   ],
   "source": [
    "import math as math\n",
    "math.sqrt(2)"
   ]
  },
  {
   "cell_type": "code",
   "execution_count": 101,
   "metadata": {
    "collapsed": false
   },
   "outputs": [
    {
     "data": {
      "text/plain": [
       "42.5440947723653"
      ]
     },
     "execution_count": 101,
     "metadata": {},
     "output_type": "execute_result"
    }
   ],
   "source": [
    "euclidean_dist_heuristic(graph, 'a', 'z')"
   ]
  },
  {
   "cell_type": "code",
   "execution_count": 84,
   "metadata": {
    "collapsed": false
   },
   "outputs": [
    {
     "data": {
      "text/plain": [
       "{'s': {'weight': 140}, 't': {'weight': 118}, 'z': {'weight': 75}}"
      ]
     },
     "execution_count": 84,
     "metadata": {},
     "output_type": "execute_result"
    }
   ],
   "source": [
    "graph['a']"
   ]
  },
  {
   "cell_type": "code",
   "execution_count": null,
   "metadata": {
    "collapsed": true
   },
   "outputs": [],
   "source": [
    "def null_heuristic(graph, v, goal):\n",
    "    \"\"\"Return 0 for all nodes.\"\"\"\n",
    "    return 0"
   ]
  },
  {
   "cell_type": "code",
   "execution_count": 97,
   "metadata": {
    "collapsed": true
   },
   "outputs": [],
   "source": [
    "def euclidean_dist_heuristic(graph, v, goal):\n",
    "    \"\"\"Return the Euclidean distance from\n",
    "    node v to the goal.\"\"\"\n",
    "    # TODO: finish this function\n",
    "    try:\n",
    "        a1 = graph.node[v]['pos']\n",
    "        a2 = graph.node[goal]['pos']\n",
    "    except:\n",
    "        a1 = graph.node[v]['position']\n",
    "        a2 = graph.node[goal]['position']\n",
    "    suma = 0\n",
    "    for a,b in zip(a1,a2):\n",
    "        suma = suma + (a-b)**2\n",
    "    return math.sqrt(suma)"
   ]
  },
  {
   "cell_type": "code",
   "execution_count": 113,
   "metadata": {
    "collapsed": false
   },
   "outputs": [
    {
     "name": "stdout",
     "output_type": "stream",
     "text": [
      "Path found: ['a', 's', 'r', 'p', 'b', 'u'], Cost = 503.00000000000006\n"
     ]
    },
    {
     "data": {
      "text/plain": [
       "['a', 's', 'r', 'p', 'b', 'u']"
      ]
     },
     "execution_count": 113,
     "metadata": {},
     "output_type": "execute_result"
    }
   ],
   "source": [
    "def Asearch(graph, start, goal):\n",
    "    end = goal\n",
    "    queue = PriorityQueue()\n",
    "    queue.put((euclidean_dist_heuristic(graph, start, goal), [start]))\n",
    "    \n",
    "    while not queue.empty():\n",
    "        node = queue.get()\n",
    "        current = node[1][-1]\n",
    "        #print(current)\n",
    "        #print(node[1][-1])\n",
    "        if end in node[1]: #Terminate the search algorithm if we have found the goal that we want to find\n",
    "            print(\"Path found: \" + str(node[1]) + \", Cost = \" + str(node[0]))\n",
    "            return node[1]\n",
    "            break\n",
    "        \n",
    "        cost = node[0]\n",
    "        for neighbor in graph[current]:\n",
    "            if neighbor not in graph.get_explored_nodes():\n",
    "                temp = node[1][:]\n",
    "                temp.append(neighbor)\n",
    "                queue.put((cost + graph[current][neighbor]['weight'] + euclidean_dist_heuristic(graph, neighbor, goal) - euclidean_dist_heuristic(graph, current, goal), temp))\n",
    "graph.reset_search()\n",
    "Asearch(graph, start, goal)"
   ]
  },
  {
   "cell_type": "code",
   "execution_count": null,
   "metadata": {
    "collapsed": true
   },
   "outputs": [],
   "source": [
    "def a_star(graph, start, goal, heuristic):\n",
    "    \"\"\"Run A* search from the start to\n",
    "    goal using the specified heuristic\n",
    "    function, and return the final path.\"\"\"\n",
    "    # TODO: finish this function\n",
    "    raise NotImplementedError\n",
    "    # return path"
   ]
  },
  {
   "cell_type": "markdown",
   "metadata": {},
   "source": [
    "Exercises\n",
    "-------\n",
    "\n",
    "\n",
    "The following exercises will require you to implement several kinds of bidirectional and tridirectional searches.\n",
    "\n",
    "The benefits of these algorithms over uninformed or unidirectional search are more clearly seen on larger graphs. As such, during grading, we will evaluate your performance on the map of Atlanta [OpenStreetMap](wiki.openstreetmap.org/) included in this assignment. If you want to run tests in iPython notebook using this data (rather than just testing on the server), you'll need to load the data from file in the cell below. If you're testing locally, be advised, not all nodes are connected."
   ]
  },
  {
   "cell_type": "code",
   "execution_count": 107,
   "metadata": {
    "collapsed": false
   },
   "outputs": [],
   "source": [
    "from osm2networkx import *\n",
    "\"\"\"Loading Atlanta map data.\"\"\"\n",
    "atlanta = pickle.load(open('atlanta_osm.pickle','rb'))\n",
    "atlanta.reset_search()"
   ]
  },
  {
   "cell_type": "markdown",
   "metadata": {},
   "source": [
    "Visualizing search results\n",
    "---\n",
    "\n",
    "When using a geographic network, you may want to visualize your searches. We can do this by converting the search results to a [GeoJSON](https://en.wikipedia.org/wiki/GeoJSON) file which we then visualize on [Gist](https://gist.github.com/) by [importing](https://github.com/blog/1576-gist-meets-geojson) the file.\n",
    "\n",
    "We provide a method for doing this in visualize_graph.py called plot_search(), which takes as parameters the graph, the name of the file to write, the nodes on the path, and the set of all nodes explored. This produces a GeoJSON file named as specified, which you can upload to Gist to visualize the search path and explored nodes."
   ]
  },
  {
   "cell_type": "code",
   "execution_count": 108,
   "metadata": {
    "collapsed": false
   },
   "outputs": [
    {
     "ename": "NameError",
     "evalue": "name 'bidirectional_ucs' is not defined",
     "output_type": "error",
     "traceback": [
      "\u001b[0;31m---------------------------------------------------------------------------\u001b[0m",
      "\u001b[0;31mNameError\u001b[0m                                 Traceback (most recent call last)",
      "\u001b[0;32m<ipython-input-108-69952c10a241>\u001b[0m in \u001b[0;36m<module>\u001b[0;34m()\u001b[0m\n\u001b[1;32m      5\u001b[0m \u001b[1;31m# You can try visualization with any other search methods completed above too.\u001b[0m\u001b[1;33m\u001b[0m\u001b[1;33m\u001b[0m\u001b[0m\n\u001b[1;32m      6\u001b[0m \u001b[0matlanta\u001b[0m\u001b[1;33m.\u001b[0m\u001b[0mreset_search\u001b[0m\u001b[1;33m(\u001b[0m\u001b[1;33m)\u001b[0m\u001b[1;33m\u001b[0m\u001b[0m\n\u001b[0;32m----> 7\u001b[0;31m \u001b[0mpath\u001b[0m \u001b[1;33m=\u001b[0m \u001b[0mbidirectional_ucs\u001b[0m\u001b[1;33m(\u001b[0m\u001b[0matlanta\u001b[0m\u001b[1;33m,\u001b[0m \u001b[1;34m'69244359'\u001b[0m\u001b[1;33m,\u001b[0m \u001b[1;34m'557989279'\u001b[0m\u001b[1;33m)\u001b[0m\u001b[1;33m\u001b[0m\u001b[0m\n\u001b[0m\u001b[1;32m      8\u001b[0m \u001b[0mall_explored\u001b[0m \u001b[1;33m=\u001b[0m \u001b[0matlanta\u001b[0m\u001b[1;33m.\u001b[0m\u001b[0mget_explored_nodes\u001b[0m\u001b[1;33m(\u001b[0m\u001b[1;33m)\u001b[0m\u001b[1;33m\u001b[0m\u001b[0m\n\u001b[1;32m      9\u001b[0m \u001b[0mplot_search\u001b[0m\u001b[1;33m(\u001b[0m\u001b[0matlanta\u001b[0m\u001b[1;33m,\u001b[0m \u001b[1;34m'atlanta_search.json'\u001b[0m\u001b[1;33m,\u001b[0m \u001b[0mpath\u001b[0m\u001b[1;33m,\u001b[0m \u001b[0mall_explored\u001b[0m\u001b[1;33m)\u001b[0m\u001b[1;33m\u001b[0m\u001b[0m\n",
      "\u001b[0;31mNameError\u001b[0m: name 'bidirectional_ucs' is not defined"
     ]
    }
   ],
   "source": [
    "\"\"\"Example of how to visualize search results\n",
    "with two sample nodes in Atlanta.\"\"\"\n",
    "from visualize_graph import plot_search\n",
    "# NOTE: *** Please complete the  bidirectional_ucs before this.***\n",
    "# You can try visualization with any other search methods completed above too.\n",
    "atlanta.reset_search()\n",
    "path = bidirectional_ucs(atlanta, '69244359', '557989279')\n",
    "all_explored = atlanta.get_explored_nodes()\n",
    "plot_search(atlanta, 'atlanta_search.json', path, all_explored)\n",
    "# then upload 'atlanta_search.json' to Gist"
   ]
  },
  {
   "cell_type": "markdown",
   "metadata": {},
   "source": [
    "Exercise 1: Bidirectional uniform-cost search\n",
    "-------\n",
    "15 points\n",
    "\n",
    "Implement bidirectional uniform-cost search. Remember that this requires starting your search at both the start and end states.\n",
    "\n",
    "bidirectional_ucs() should return the path from the start node to the goal node (as a list of nodes).\n",
    "\n",
    "Notes:\n",
    "\n",
    "    1) You do need to include start and goal in the path.\n",
    "    2) If your start and goal are the same then just return []\n",
    "    3) We will provide some margin of error in grading the size of your 'Explored' set, but it should be close to the results provided by our reference implementation.\n",
    " \n",
    "\n",
    "All of the above are just to keep your results consistent with our test cases."
   ]
  },
  {
   "cell_type": "code",
   "execution_count": null,
   "metadata": {
    "collapsed": true
   },
   "outputs": [],
   "source": [
    "        #The terminate condition for the previous question\n",
    "        #print(node)\n",
    "        if end in node[1]:\n",
    "            print(\"Path found: \" + str(node[1]) + \", Cost = \" + str(node[0]))\n",
    "            return node[1]\n",
    "            break"
   ]
  },
  {
   "cell_type": "code",
   "execution_count": 155,
   "metadata": {
    "collapsed": true
   },
   "outputs": [],
   "source": [
    "def bidirectional_ucs(graph, start, goal):\n",
    "    \"\"\"Run bidirectional uniform-cost search\n",
    "    between start and goal\"\"\"\n",
    "    # TODO: finish this function\n",
    "    end = goal\n",
    "    #count = 0\n",
    "    queue1 = PriorityQueue()\n",
    "    queue1.put((0, [start])) #Search from start to goal\n",
    "    queue2 = PriorityQueue()\n",
    "    queue2.put((0, [goal])) #Search from goal to start\n",
    "    current2 = 0\n",
    "    #The terminate condition is that when the frontier of the 2 search meets\n",
    "    while not (queue1.empty() or queue2.empty()):\n",
    "        #The search from start\n",
    "        node1 = queue1.get()\n",
    "        current1 = node1[1][-1]\n",
    "        \n",
    "        cost1 = node1[0]\n",
    "        NS = []\n",
    "        NSP = []\n",
    "        #print(current2)\n",
    "        for neighbor in graph[current1]:\n",
    "            if neighbor not in graph.get_explored_nodes():\n",
    "                NS.append(neighbor)\n",
    "                temp = node1[1][:] #The path until now\n",
    "                temp.append(neighbor) #add the new neighbor to the current existed path\n",
    "                NSP.append(temp)\n",
    "                queue1.put((cost1 + graph[current1][neighbor]['weight'], temp))\n",
    "\n",
    "        #The search from goal\n",
    "        node2 = queue2.get()\n",
    "        current2 = node2[1][-1]\n",
    "        \n",
    "        cost2 = node2[0]\n",
    "        NE = []\n",
    "        NEP = []\n",
    "        for neighbor in graph[current2]:\n",
    "            if neighbor == current1:\n",
    "                #try:\n",
    "                #    print(node1[1])\n",
    "                #    print(node2[1])\n",
    "                #    print(neighbor)\n",
    "                #except:\n",
    "                #    print(node1[1])\n",
    "                ind = node2[1].index(neighbor)\n",
    "                temp = node2[1][0:ind]\n",
    "                temp.reverse()\n",
    "                return node1[1] + temp\n",
    "            if neighbor not in graph.get_explored_nodes():\n",
    "                #count = count + 1\n",
    "                NE.append(neighbor)\n",
    "                temp = node2[1][:] #The path until now\n",
    "                temp.append(neighbor) #add the new neighbor to the current existed path\n",
    "                NEP.append(temp)\n",
    "                queue2.put((cost2 + graph[current2][neighbor]['weight'], temp))\n",
    "\n",
    "#     return path"
   ]
  },
  {
   "cell_type": "code",
   "execution_count": 156,
   "metadata": {
    "collapsed": false
   },
   "outputs": [
    {
     "data": {
      "text/plain": [
       "['a', 's', 'r', 'p', 'b', 'u']"
      ]
     },
     "execution_count": 156,
     "metadata": {},
     "output_type": "execute_result"
    }
   ],
   "source": [
    "graph.reset_search()\n",
    "bidirectional_ucs(graph, start, goal)"
   ]
  },
  {
   "cell_type": "markdown",
   "metadata": {},
   "source": [
    "Exercise 2: Bidirectional A\\* search\n",
    "-------\n",
    "20 points\n",
    "\n",
    "Implement bidirectional A\\* search. Remember that you need to calculate a heuristic for both the start-to-goal search and the goal-to-start search.\n",
    "\n",
    "To test this function, as well as using the provided tests, you can compare the path computed by bidirectional A star to bidirectional ucs search above.\n",
    "\n",
    "bidirectional_a_star should return the path from the start node to the goal node, as a list of nodes.\n",
    "\n",
    "Notes:\n",
    "\n",
    "    1) You do need to include start and goal in the path.\n",
    "    2) If your start and goal are the same then just return []\n",
    "    3) We will provide some margin of error in grading the size of your 'Explored' set, but it should be close to the results provided by our reference implementation.\n"
   ]
  },
  {
   "cell_type": "code",
   "execution_count": 157,
   "metadata": {
    "collapsed": true
   },
   "outputs": [],
   "source": [
    "def bidirectional_a_star(graph, start, goal, heuristic):\n",
    "    \"\"\"Run bidirectional A* search between\n",
    "    start and goal.\"\"\"\n",
    "    # TODO: finish this function\n",
    "    \"\"\"Run bidirectional uniform-cost search\n",
    "    between start and goal\"\"\"\n",
    "    # TODO: finish this function\n",
    "    end = goal\n",
    "    #count = 0\n",
    "    queue1 = PriorityQueue()\n",
    "    queue1.put((0, [start])) #Search from start to goal\n",
    "    queue2 = PriorityQueue()\n",
    "    queue2.put((0, [goal])) #Search from goal to start\n",
    "    current2 = 0\n",
    "    #The terminate condition is that when the frontier of the 2 search meets\n",
    "    while not (queue1.empty() or queue2.empty()):\n",
    "        #The search from start\n",
    "        node1 = queue1.get()\n",
    "        current1 = node1[1][-1]\n",
    "        \n",
    "        cost1 = node1[0]\n",
    "        NS = []\n",
    "        NSP = []\n",
    "        #print(current2)\n",
    "        for neighbor in graph[current1]:\n",
    "            if neighbor not in graph.get_explored_nodes():\n",
    "                NS.append(neighbor)\n",
    "                temp = node1[1][:] #The path until now\n",
    "                temp.append(neighbor) #add the new neighbor to the current existed path\n",
    "                NSP.append(temp)\n",
    "                queue1.put((cost1 + graph[current1][neighbor]['weight'] + euclidean_dist_heuristic(graph, neighbor, goal) - euclidean_dist_heuristic(graph, current1, goal), temp))\n",
    "\n",
    "        #The search from goal\n",
    "        node2 = queue2.get()\n",
    "        current2 = node2[1][-1]\n",
    "        \n",
    "        cost2 = node2[0]\n",
    "        NE = []\n",
    "        NEP = []\n",
    "        for neighbor in graph[current2]:\n",
    "            if neighbor == current1:\n",
    "                #try:\n",
    "                #    print(node1[1])\n",
    "                #    print(node2[1])\n",
    "                #    print(neighbor)\n",
    "                #except:\n",
    "                #    print(node1[1])\n",
    "                ind = node2[1].index(neighbor)\n",
    "                temp = node2[1][0:ind]\n",
    "                temp.reverse()\n",
    "                return node1[1] + temp\n",
    "            if neighbor not in graph.get_explored_nodes():\n",
    "                #count = count + 1\n",
    "                NE.append(neighbor)\n",
    "                temp = node2[1][:] #The path until now\n",
    "                temp.append(neighbor) #add the new neighbor to the current existed path\n",
    "                NEP.append(temp)\n",
    "                queue2.put((cost2 + graph[current2][neighbor]['weight']+ euclidean_dist_heuristic(graph, neighbor, start) - euclidean_dist_heuristic(graph, current2, start), temp))\n"
   ]
  },
  {
   "cell_type": "code",
   "execution_count": 158,
   "metadata": {
    "collapsed": false
   },
   "outputs": [
    {
     "ename": "TypeError",
     "evalue": "bidirectional_a_star() missing 1 required positional argument: 'heuristic'",
     "output_type": "error",
     "traceback": [
      "\u001b[0;31m---------------------------------------------------------------------------\u001b[0m",
      "\u001b[0;31mTypeError\u001b[0m                                 Traceback (most recent call last)",
      "\u001b[0;32m<ipython-input-158-195e38d44d97>\u001b[0m in \u001b[0;36m<module>\u001b[0;34m()\u001b[0m\n\u001b[1;32m      1\u001b[0m \u001b[0mgraph\u001b[0m\u001b[1;33m.\u001b[0m\u001b[0mreset_search\u001b[0m\u001b[1;33m(\u001b[0m\u001b[1;33m)\u001b[0m\u001b[1;33m\u001b[0m\u001b[0m\n\u001b[0;32m----> 2\u001b[0;31m \u001b[0mbidirectional_a_star\u001b[0m\u001b[1;33m(\u001b[0m\u001b[0mgraph\u001b[0m\u001b[1;33m,\u001b[0m \u001b[0mstart\u001b[0m\u001b[1;33m,\u001b[0m \u001b[0mgoal\u001b[0m\u001b[1;33m)\u001b[0m\u001b[1;33m\u001b[0m\u001b[0m\n\u001b[0m",
      "\u001b[0;31mTypeError\u001b[0m: bidirectional_a_star() missing 1 required positional argument: 'heuristic'"
     ]
    }
   ],
   "source": [
    "graph.reset_search()\n",
    "bidirectional_a_star(graph, start, goal)"
   ]
  },
  {
   "cell_type": "markdown",
   "metadata": {},
   "source": [
    "Exercise 3: Tridirectional search\n",
    "------\n",
    "20 points\n",
    "\n",
    "Implement tridirectional search in the naive way: starting from each goal node, perform a uniform-cost search and keep expanding until two of the three searches meet. This should be one continuous path that connects all three nodes. You can return the path in any order. Eg. (1->2->3 == 3->2->1)\n",
    "\n",
    "tridirectional_search should return the path from the start node to the goal node (as a list of nodes).\n",
    "\n",
    "Notes:\n",
    "\n",
    "    1) You need to include start and goal in the path.\n",
    "    2) If any goals are the same then just return [] as the path between them.\n",
    "    3) We will provide some margin of error in grading the size of your 'Explored' set, but it should be close to the results provided by our reference implementation.\n"
   ]
  },
  {
   "cell_type": "code",
   "execution_count": null,
   "metadata": {
    "collapsed": true
   },
   "outputs": [],
   "source": [
    "def tridirectional_search(graph, goals):\n",
    "    \"\"\"Run tridirectional uniform-cost search\n",
    "    between the goals and return the path.\"\"\"\n",
    "    # TODO: finish this function\n",
    "    raise NotImplementedError\n",
    "    #return path"
   ]
  },
  {
   "cell_type": "markdown",
   "metadata": {},
   "source": [
    "Exercise 4: Tridirectional search\n",
    "------\n",
    "15 points\n",
    "\n",
    "This is the heart of the assignment. Implement tridirectional search in such a way as to consistently improve on the performance of your previous implementation. This means consistently exploring fewer nodes during your search in order to reduce runtime.\n",
    "\n",
    "The specifics are up to you, but we have a few suggestions:\n",
    "- Tridirectional A*\n",
    "- choosing landmarks and precomputing reach values\n",
    "- ATL (A\\*, landmarks, and triangle-inequality)\n",
    "- shortcuts (skipping nodes with low reach values)\n",
    "\n",
    "tridirectional_upgraded() should return a path between all three nodes.\n",
    "\n",
    "Notes:\n",
    "\n",
    "    1) You do need to include each goal in the path.\n",
    "    2) If any two goals are the same then just return [] as the path between them\n",
    "    3) We will provide some margin of error in grading the size of your 'Explored' set, but it should be close to the results provided by our reference implementation."
   ]
  },
  {
   "cell_type": "code",
   "execution_count": null,
   "metadata": {
    "collapsed": true
   },
   "outputs": [],
   "source": [
    "def tridirectional_upgraded(graph, goals, heuristic):\n",
    "    \"\"\"Run an improved tridirectional search between\n",
    "    goals, and return the path.\"\"\"\n",
    "    # TODO: finish this function\n",
    "    raise NotImplementedError\n",
    "    #return path"
   ]
  },
  {
   "cell_type": "markdown",
   "metadata": {},
   "source": [
    "Race!\n",
    "---\n",
    "Here's your chance to show us your best stuff. This part is mandatory if you want to compete in the race for extra credit. Implement custom_search() using whatever strategy you like. Your search should be tri-directional and it'll be tested on the Atlanta map only."
   ]
  },
  {
   "cell_type": "code",
   "execution_count": null,
   "metadata": {
    "collapsed": true
   },
   "outputs": [],
   "source": [
    "def custom_search(graph, goals):\n",
    "    \"\"\"Run your best tridirectional search between\n",
    "    goals, and return the path.\"\"\"\n",
    "    raise NotImplementedError\n",
    "    # return path"
   ]
  }
 ],
 "metadata": {
  "kernelspec": {
   "display_name": "Python 3",
   "language": "python",
   "name": "python3"
  },
  "language_info": {
   "codemirror_mode": {
    "name": "ipython",
    "version": 3
   },
   "file_extension": ".py",
   "mimetype": "text/x-python",
   "name": "python",
   "nbconvert_exporter": "python",
   "pygments_lexer": "ipython3",
   "version": "3.6.0"
  }
 },
 "nbformat": 4,
 "nbformat_minor": 0
}
